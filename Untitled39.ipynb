{
 "cells": [
  {
   "cell_type": "code",
   "execution_count": null,
   "id": "11e5b281-d821-4912-9f8b-3499de88a5cd",
   "metadata": {},
   "outputs": [],
   "source": [
    "1ans) Probability Mass Function (PMF):\n",
    "The PMF is used for discrete random variables. \n",
    "It gives the probability of each possible outcome. \n",
    "In other words, it provides the probability that a random variable takes on a specific value.\n",
    "\n",
    "Probability Density Function (PDF):\n",
    "The PDF is used for continuous random variables.\n",
    "Since continuous random variables can take on an infinite number of values within a certain range, \n",
    "the probability of the random variable taking on a specific value is typically zero. \n",
    "Instead, the PDF provides information about the likelihood of the random variable falling within a certain range."
   ]
  },
  {
   "cell_type": "code",
   "execution_count": null,
   "id": "ae46c252-70ad-4d7a-b536-75d02e8fe202",
   "metadata": {},
   "outputs": [],
   "source": [
    "2ans) The Cumulative Distribution Function (CDF) is a concept used in probability and statistics to describe the probability\n",
    "that a random variable takes on a value less than or equal to a given value.\n",
    "It provides a cumulative view of the probabilities associated with a random variable across its entire range.\n",
    "\n",
    "Calculating probabilities: The CDF provides a convenient way to calculate probabilities for ranges of values.\n",
    "For instance, if you want to find the probability that a random variable falls between two values, \n",
    "you can subtract the CDF value at the lower value from the CDF value at the higher value.\n",
    "\n",
    "Understanding distribution behavior: The shape and behavior of the CDF can give insights \n",
    "into the characteristics of a random variable's distribution.\n",
    "It shows how the probabilities accumulate as you move along the range of values."
   ]
  },
  {
   "cell_type": "code",
   "execution_count": null,
   "id": "6d8983d6-ceb5-49ad-b088-1b6250da8aa9",
   "metadata": {},
   "outputs": [],
   "source": [
    "3ans) The normal distribution, also known as the Gaussian distribution or bell curve, \n",
    "is a widely used probability distribution that occurs naturally in many real-world situations.\n",
    "It's characterized by its symmetric bell-shaped curve and is defined by two parameters: the mean (μ) and the standard deviation (σ)."
   ]
  },
  {
   "cell_type": "code",
   "execution_count": null,
   "id": "080bdfa6-5a00-42a4-ac8f-a05d8379f24c",
   "metadata": {},
   "outputs": [],
   "source": [
    "4ans) The Normal Distribution, also known as the Gaussian distribution or bell curve, \n",
    "is of paramount importance in various fields due to its widespread occurrence in real-world phenomena\n",
    "and its mathematical properties\n",
    "\n",
    "Real-life Examples of Normal Distribution:\n",
    "\n",
    "IQ Scores: IQ scores of a large population closely approximate a normal distribution. \n",
    "The mean IQ score is set at 100, and the standard deviation is typically set at 15.\n",
    "\n",
    "Height of Humans: The heights of adult humans tend to follow a normal distribution. \n",
    "The mean height represents the average height, and the standard deviation indicates the variability in heights."
   ]
  },
  {
   "cell_type": "code",
   "execution_count": null,
   "id": "1aa0c829-7a75-4139-b1fa-8a862ac5f03b",
   "metadata": {},
   "outputs": [],
   "source": [
    "5ans) The Bernoulli Distribution is a probability distribution that models a random variable \n",
    "that can take on one of two possible outcomes: success (usually denoted as 1) or failure (usually denoted as 0).\n",
    "\n",
    "Bernoulli Distribution: Describes a single trial or experiment with two possible outcomes (success or failure).\n",
    "Binomial Distribution: Describes the number of successes in a fixed number of independent Bernoulli trials."
   ]
  },
  {
   "cell_type": "code",
   "execution_count": null,
   "id": "be75892c-3383-4e31-9c62-739e5490bb2d",
   "metadata": {},
   "outputs": [],
   "source": [
    "6ans) z = (x - μ) / σ\n",
    "z = (60 - 50) / 10 = 1\n",
    "the probability that a randomly selected observation from \n",
    "this normally distributed dataset will be greater than 60 is approximately 0.1587, or 15.87%."
   ]
  },
  {
   "cell_type": "code",
   "execution_count": null,
   "id": "8be4e82a-db39-4a28-8b3f-3827fd252a63",
   "metadata": {},
   "outputs": [],
   "source": [
    "7ans) The Uniform Distribution, also known as the rectangular distribution, \n",
    "is a probability distribution that models a random variable where all values within a certain range are equally likely to occur.\n",
    "In other words, it represents situations where each possible outcome has the same probability of occurring.\n",
    "\n",
    "Consider rolling a fair six-sided die. The random variable X represents the outcome of the roll.\n",
    "The uniform distribution is a suitable model for this scenario, as each side of the die has an equal chance of landing face up."
   ]
  },
  {
   "cell_type": "code",
   "execution_count": null,
   "id": "2bbbf3ec-a9ad-47f1-9eb4-4c41e246ebd9",
   "metadata": {},
   "outputs": [],
   "source": [
    "8ans) The z-score, also known as the standard score, is a measure used in statistics to standardize and compare individual data points within a dataset.\n",
    "It quantifies how many standard deviations a data point is away from the mean of the dataset.\n",
    "It's a dimensionless quantity that allows for meaningful comparison across different datasets or within a single dataset.\n",
    "\n",
    "The formula to calculate the z-score for a data point \"x\" within a dataset with mean \"μ\" and standard deviation \"σ\" is:\n",
    "\n",
    "z = (x - μ) / σ\n",
    "\n",
    "Standardization and Comparison: The z-score standardizes data, transforming it into a common scale with a mean of 0 and a standard deviation of 1. \n",
    "This allows for easy comparison of data points from different datasets that might have different units or scales.\n",
    "It helps identify how extreme or unusual a data point is relative to the rest of the data.\n",
    "\n",
    "Identifying Outliers: Z-scores are useful for identifying outliers, which are data points that deviate significantly from the mean. \n",
    "Outliers often have high z-scores, indicating that they are far from the mean compared to the rest of the data\n",
    "\n",
    "Hypothesis Testing and Critical Values: Z-scores are used in hypothesis testing to determine the critical value beyond which a result is considered statistically significant.\n",
    "The critical value corresponds to a certain level of significance, often denoted by alpha (α).\n"
   ]
  },
  {
   "cell_type": "code",
   "execution_count": null,
   "id": "d06f0b43-21cc-48bb-86d2-f27152f6a133",
   "metadata": {},
   "outputs": [],
   "source": [
    "9ans) The Central Limit Theorem (CLT) is a fundamental concept in statistics that states that when you take a large enough sample from any population, \n",
    "the distribution of the sample means will approximate a normal distribution, regardless of the original population's distribution.\n",
    "\n",
    "Statistical Inference: The Central Limit Theorem is the foundation for many statistical inference techniques.\n",
    "It allows statisticians to use normal distribution-based methods even when the original data might not follow a normal distribution.\n",
    "\n",
    "Hypothesis Testing: The CLT is essential for hypothesis testing. \n",
    "It helps determine critical values and calculate p-values by assuming that the sample mean distribution is normal."
   ]
  },
  {
   "cell_type": "code",
   "execution_count": null,
   "id": "c60bf36f-1350-40dd-a41c-9df694b9479c",
   "metadata": {},
   "outputs": [],
   "source": [
    "10ans) The Central Limit Theorem (CLT) is a fundamental concept in statistics that allows us to make certain assumptions about the distribution of sample means.\n",
    "\n",
    "Independence: The individual data points in the sample must be independent of each other. This means that the value of one data point does not influence or affect the value of another data point in the sample.\n",
    "\n",
    "Random Sampling: The sample must be drawn randomly from the population of interest. This ensures that the sample is representative of the population and reduces the risk of bias.\n",
    "\n",
    "Sample Size: The sample size should be sufficiently large. While there is no strict rule for what constitutes a \"sufficiently large\" sample size, a common guideline is that a sample size of around 30 or greater is often considered large enough for the CLT to start having an effect. However, larger sample sizes generally result in better approximations to a normal distribution."
   ]
  }
 ],
 "metadata": {
  "kernelspec": {
   "display_name": "Python 3 (ipykernel)",
   "language": "python",
   "name": "python3"
  },
  "language_info": {
   "codemirror_mode": {
    "name": "ipython",
    "version": 3
   },
   "file_extension": ".py",
   "mimetype": "text/x-python",
   "name": "python",
   "nbconvert_exporter": "python",
   "pygments_lexer": "ipython3",
   "version": "3.10.8"
  }
 },
 "nbformat": 4,
 "nbformat_minor": 5
}
